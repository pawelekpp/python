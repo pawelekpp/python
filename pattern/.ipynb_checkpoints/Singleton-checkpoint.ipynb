{
 "cells": [
  {
   "cell_type": "code",
   "execution_count": 1,
   "metadata": {},
   "outputs": [
    {
     "name": "stdout",
     "output_type": "stream",
     "text": [
      "Instance does not exist...\n",
      "Instance does not exist...\n",
      "Creating instance <__main__.Singleton object at 0x7f761017cba8>\n",
      "Instance exists: <__main__.Singleton object at 0x7f761017cba8>\n",
      "Instance exists: <__main__.Singleton object at 0x7f761017cba8>\n"
     ]
    }
   ],
   "source": [
    "class Singleton(object):\n",
    "    __instance = None\n",
    "\n",
    "    def __init__(self):\n",
    "        if not Singleton.__instance:\n",
    "            print('Instance does not exist...')\n",
    "        else:\n",
    "            print('Instance exists:', self.get_instance())\n",
    "\n",
    "    @classmethod\n",
    "    def get_instance(cls):\n",
    "        if not cls.__instance:\n",
    "            cls.__instance = Singleton()\n",
    "        return cls.__instance\n",
    "\n",
    "a = Singleton()\n",
    "\n",
    "# Once a singleton is created, all instances of this class will use the same object\n",
    "print('Creating instance', Singleton.get_instance())\n",
    "\n",
    "# Since singleton already created, the existing object is returned\n",
    "b = Singleton()\n",
    "\n",
    "# Even though we now have 3 different instances of this class, they all reference the same object\n",
    "c = Singleton()"
   ]
  },
  {
   "cell_type": "code",
   "execution_count": null,
   "metadata": {
    "collapsed": true
   },
   "outputs": [],
   "source": []
  }
 ],
 "metadata": {
  "kernelspec": {
   "display_name": "Python 3",
   "language": "python",
   "name": "python3"
  },
  "language_info": {
   "codemirror_mode": {
    "name": "ipython",
    "version": 3
   },
   "file_extension": ".py",
   "mimetype": "text/x-python",
   "name": "python",
   "nbconvert_exporter": "python",
   "pygments_lexer": "ipython3",
   "version": "3.6.3"
  }
 },
 "nbformat": 4,
 "nbformat_minor": 2
}
