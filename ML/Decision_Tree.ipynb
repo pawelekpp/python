{
 "cells": [
  {
   "cell_type": "code",
   "execution_count": 3,
   "metadata": {},
   "outputs": [
    {
     "name": "stdout",
     "output_type": "stream",
     "text": [
      "[0 1 2]\n",
      "[0 1 2]\n",
      "[ 5.1  3.5  1.4  0.2] 0\n",
      "['sepal length (cm)', 'sepal width (cm)', 'petal length (cm)', 'petal width (cm)']\n",
      "['setosa' 'versicolor' 'virginica']\n"
     ]
    },
    {
     "data": {
      "text/plain": [
       "True"
      ]
     },
     "execution_count": 3,
     "metadata": {},
     "output_type": "execute_result"
    }
   ],
   "source": [
    "import numpy\n",
    "from sklearn.datasets import load_iris\n",
    "from sklearn import tree\n",
    "\n",
    "iris = load_iris()\n",
    "\n",
    "# select test indexes\n",
    "# dataset is ordered so 0, 50, 100 is a first of each kind\n",
    "test_idx = [0, 50, 100]\n",
    "\n",
    "\n",
    "# training data\n",
    "train_target = numpy.delete(iris.target, test_idx)\n",
    "train_data = numpy.delete(iris.data, test_idx, axis=0)\n",
    "\n",
    "# testing data\n",
    "test_target = iris.target[test_idx]\n",
    "test_data = iris.data[test_idx]\n",
    "\n",
    "# create and train classifier\n",
    "clf = tree.DecisionTreeClassifier()\n",
    "clf.fit(train_data, train_target)\n",
    "\n",
    "\n",
    "print(test_target)\n",
    "# Output: [0 1 2]\n",
    "\n",
    "output = clf.predict(test_data)\n",
    "print(output)\n",
    "# Output: [0 1 2]\n",
    "\n",
    "\n",
    "print(test_data[0], test_target[0])\n",
    "# output: [ 5.1  3.5  1.4  0.2] 0\n",
    "\n",
    "\n",
    "print(iris.feature_names)\n",
    "# output: ['sepal length (cm)', 'sepal width (cm)', 'petal length (cm)', 'petal width (cm)']\n",
    "\n",
    "print(iris.target_names)\n",
    "# output: ['setosa' 'versicolor' 'virginica']\n",
    "\n",
    "\n",
    "# Vizualization of Decision Tree Classifier\n",
    "from sklearn.externals.six import StringIO\n",
    "import pydotplus\n",
    "\n",
    "dot_data = StringIO()\n",
    "tree.export_graphviz(\n",
    "    decision_tree=clf,\n",
    "    out_file=dot_data,\n",
    "    feature_names=iris.feature_names,\n",
    "    class_names=iris.target_names,\n",
    "    filled=True,\n",
    "    rounded=True,\n",
    "    impurity=True\n",
    ")\n",
    "\n",
    "graph = pydotplus.graph_from_dot_data(dot_data.getvalue())\n",
    "graph.write_pdf('/tmp/iris.pdf')"
   ]
  },
  {
   "cell_type": "code",
   "execution_count": null,
   "metadata": {
    "collapsed": true
   },
   "outputs": [],
   "source": []
  }
 ],
 "metadata": {
  "kernelspec": {
   "display_name": "Python 3",
   "language": "python",
   "name": "python3"
  },
  "language_info": {
   "codemirror_mode": {
    "name": "ipython",
    "version": 3
   },
   "file_extension": ".py",
   "mimetype": "text/x-python",
   "name": "python",
   "nbconvert_exporter": "python",
   "pygments_lexer": "ipython3",
   "version": "3.6.3"
  }
 },
 "nbformat": 4,
 "nbformat_minor": 2
}
