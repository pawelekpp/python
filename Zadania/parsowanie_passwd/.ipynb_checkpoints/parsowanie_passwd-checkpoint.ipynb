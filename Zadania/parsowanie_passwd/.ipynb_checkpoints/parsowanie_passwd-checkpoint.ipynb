{
 "cells": [
  {
   "cell_type": "markdown",
   "metadata": {},
   "source": [
    "http://python.astrotech.io/podstawy/pliki.html\n",
    "Parsowanie /etc/passwd\n",
    "\n",
    "    Sparsuj plik /etc/passwd i przedstaw go w formacie listy dictów:\n",
    "\n",
    "            User name\n",
    "            Encrypted password\n",
    "            User ID number (UID)\n",
    "            User’s group ID number (GID)\n",
    "            Full name of the user (GECOS)\n",
    "            User home directory\n",
    "            Login shell\n",
    "\n",
    "\n",
    "\n",
    "        passwd example in file passwd\n",
    "\n",
    "        \n",
    "\n"
   ]
  },
  {
   "cell_type": "code",
   "execution_count": null,
   "metadata": {
    "collapsed": true
   },
   "outputs": [],
   "source": [
    "with "
   ]
  }
 ],
 "metadata": {
  "kernelspec": {
   "display_name": "Python 3",
   "language": "python",
   "name": "python3"
  },
  "language_info": {
   "codemirror_mode": {
    "name": "ipython",
    "version": 3
   },
   "file_extension": ".py",
   "mimetype": "text/x-python",
   "name": "python",
   "nbconvert_exporter": "python",
   "pygments_lexer": "ipython3",
   "version": "3.6.3"
  }
 },
 "nbformat": 4,
 "nbformat_minor": 2
}
