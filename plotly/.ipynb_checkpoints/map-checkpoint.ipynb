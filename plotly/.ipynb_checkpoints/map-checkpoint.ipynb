{
 "cells": [
  {
   "cell_type": "code",
   "execution_count": 7,
   "metadata": {},
   "outputs": [
    {
     "name": "stdout",
     "output_type": "stream",
     "text": [
      "High five! You successfully sent some data to your account on plotly. View your plot in your browser at https://plot.ly/~piedziak.pawel/0 or inside your plot.ly account where it is named 'Canadian Cities'\n"
     ]
    }
   ],
   "source": [
    "import plotly.plotly as py\n",
    "import plotly.graph_objs as go\n",
    "\n",
    "fig = go.Figure(\n",
    "    data=[\n",
    "        go.Scattergeo(\n",
    "            lat=[45.5,43.4,49.13,51.1,53.34,45.24,44.64,48.25,49.89,50.45],\n",
    "            lon=[-73.57,-79.24,-123.06,-114.1,-113.28,-75.43,-63.57,-123.21,-97.13,-104.6],\n",
    "            marker={\n",
    "                \"color\": [\"#bebada\",\"#fdb462\",\"#fb8072\",\"#d9d9d9\",\"#bc80bd\",\"#b3de69\",\"#8dd3c7\",\"#80b1d3\",\"#fccde5\",\"#ffffb3\"],\n",
    "                \"line\": {\n",
    "                    \"width\": 1\n",
    "                },\n",
    "                \"size\": 10\n",
    "            },\n",
    "            mode=\"markers+text\",\n",
    "            name=\"piedziak.pawel@gmail.com\",\n",
    "            text=[\"Montreal\",\"Toronto\",\"Vancouver\",\"Calgary\",\"Edmonton\",\"Ottawa\",\"Halifax\",\"Victoria\",\"Winnepeg\",\"Regina\"],\n",
    "            textfont={\n",
    "                \"color\": [\"#bebada\",\"#fdb462\",\"#fb8072\",\"#d9d9d9\",\"#bc80bd\",\"#b3de69\",\"#8dd3c7\",\"#80b1d3\",\"#fccde5\",\"#ffffb3\"],\n",
    "                \"family\": [\"Arial, sans-serif\",\"Balto, sans-serif\",\"Courier New, monospace\",\"Droid Sans, sans-serif\",\"Droid Serif, serif\",\"Droid Sans Mono, sans-serif\",\"Gravitas One, cursive\",\"Old Standard TT, serif\",\"Open Sans, sans-serif\",\"PT Sans Narrow, sans-serif\",\"Raleway, sans-serif\",\"Times New Roman, Times, serif\"],\n",
    "                \"size\": [22,21,20,19,18,17,16,15,14,13]\n",
    "            },\n",
    "            textposition=[\"top center\",\"middle left\",\"top center\",\"bottom center\",\"top right\",\"middle left\",\"bottom right\",\"bottom left\",\"top right\",\"top right\"]\n",
    "        )\n",
    "    ],\n",
    "    layout={\n",
    "        \"title\": \"Canadian cities\",\n",
    "        \"geo\": {\n",
    "            \"lataxis\": {\n",
    "                \"range\": [40, 70]\n",
    "            },\n",
    "            \"lonaxis\": {\n",
    "                \"range\": [-130, -55]\n",
    "            },\n",
    "            \"scope\": \"north america\"\n",
    "        }\n",
    "    }\n",
    ")\n",
    "\n",
    "plot_url = py.plot(fig, filename='Canadian Cities')"
   ]
  },
  {
   "cell_type": "code",
   "execution_count": null,
   "metadata": {
    "collapsed": true
   },
   "outputs": [],
   "source": []
  }
 ],
 "metadata": {
  "kernelspec": {
   "display_name": "Python 3",
   "language": "python",
   "name": "python3"
  },
  "language_info": {
   "codemirror_mode": {
    "name": "ipython",
    "version": 3
   },
   "file_extension": ".py",
   "mimetype": "text/x-python",
   "name": "python",
   "nbconvert_exporter": "python",
   "pygments_lexer": "ipython3",
   "version": "3.6.3"
  }
 },
 "nbformat": 4,
 "nbformat_minor": 2
}
